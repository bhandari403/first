{
 "cells": [
  {
   "cell_type": "code",
   "execution_count": null,
   "id": "88eae1e7",
   "metadata": {},
   "outputs": [],
   "source": [
    "a = 5\n",
    "b = 10\n",
    "print(\"The sum of a andb is:\", a + b ) "
   ]
  },
  {
   "cell_type": "code",
   "execution_count": null,
   "id": "c22bcfae",
   "metadata": {},
   "outputs": [],
   "source": []
  }
 ],
 "metadata": {
  "language_info": {
   "name": "python"
  }
 },
 "nbformat": 4,
 "nbformat_minor": 5
}
